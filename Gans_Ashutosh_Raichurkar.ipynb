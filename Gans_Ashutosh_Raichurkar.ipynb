{
 "cells": [
  {
   "cell_type": "markdown",
   "metadata": {},
   "source": [
    "# Generative Adverserial Network\n",
    "## Ashutosh Raichurkar\n",
    "## 001306059"
   ]
  },
  {
   "cell_type": "markdown",
   "metadata": {},
   "source": [
    "Abstract : In this project , We introduce understanding of GANS for generating fake images. Its network architecture and problem associated with it are covered. The aim of this assignment was to understand the how we implents gans using 2 main blocks ie Decriminator and generator"
   ]
  },
  {
   "cell_type": "markdown",
   "metadata": {},
   "source": [
    "# GANS\n",
    "A generative adversarial network (GAN) is a class of machine learning frameworks invented by Ian Goodfellow and his colleagues in 2014. Two neural networks contest with each other in a game (in the sense of game theory, often but not always in the form of a zero-sum game).iven a training set, this technique learns to generate new data with the same statistics as the training set. For example, a GAN trained on photographs can generate new photographs that look at least superficially authentic to human observers, having many realistic characteristics. Though originally proposed as a form of generative model for unsupervised learning, GANs have also proven useful for semi-supervised learning, fully supervised learning, and reinforcement learning."
   ]
  },
  {
   "cell_type": "code",
   "execution_count": 2,
   "metadata": {},
   "outputs": [
    {
     "data": {
      "text/html": [
       "<img src=\"https://sigmoidal.io/wp-content/uploads/2017/09/generator_and_discriminator1.png\"/>"
      ],
      "text/plain": [
       "<IPython.core.display.Image object>"
      ]
     },
     "execution_count": 2,
     "metadata": {},
     "output_type": "execute_result"
    }
   ],
   "source": [
    "from IPython.display import Image\n",
    "from IPython.core.display import HTML \n",
    "Image(url= \"https://sigmoidal.io/wp-content/uploads/2017/09/generator_and_discriminator1.png\")"
   ]
  },
  {
   "cell_type": "markdown",
   "metadata": {},
   "source": [
    "## The MinMax Function"
   ]
  },
  {
   "cell_type": "code",
   "execution_count": 3,
   "metadata": {},
   "outputs": [
    {
     "data": {
      "text/html": [
       "<img src=\"https://datascience.foundation/backend/web/uploads/blog/GAN%20Algorithm.png\"/>"
      ],
      "text/plain": [
       "<IPython.core.display.Image object>"
      ]
     },
     "execution_count": 3,
     "metadata": {},
     "output_type": "execute_result"
    }
   ],
   "source": [
    "\n",
    "Image(url= \"https://datascience.foundation/backend/web/uploads/blog/GAN%20Algorithm.png\")"
   ]
  },
  {
   "cell_type": "markdown",
   "metadata": {},
   "source": [
    "## Model 1"
   ]
  },
  {
   "cell_type": "code",
   "execution_count": 0,
   "metadata": {
    "colab": {},
    "colab_type": "code",
    "id": "itDuvv3by8bm"
   },
   "outputs": [],
   "source": [
    "def hms_string(sec_elapsed):\n",
    "    h = int(sec_elapsed / (60 * 60))\n",
    "    m = int((sec_elapsed % (60 * 60)) / 60)\n",
    "    s = sec_elapsed % 60\n",
    "    return \"{}:{:>02}:{:>05.2f}\".format(h, m, s)"
   ]
  },
  {
   "cell_type": "code",
   "execution_count": 104,
   "metadata": {
    "colab": {
     "base_uri": "https://localhost:8080/",
     "height": 52
    },
    "colab_type": "code",
    "id": "hNGp51YIzEtu",
    "outputId": "0399fb26-1dd9-4138-bc76-cd45c07a8ab2"
   },
   "outputs": [
    {
     "name": "stdout",
     "output_type": "stream",
     "text": [
      "Mounted at /content/drive\n",
      "Note: using Google CoLab\n"
     ]
    }
   ],
   "source": [
    "try:\n",
    "    from google.colab import drive\n",
    "    drive.mount('/content/drive', force_remount=True)\n",
    "    COLAB = True\n",
    "    print(\"Note: using Google CoLab\")\n",
    "    %tensorflow_version 2.x\n",
    "except:\n",
    "    print(\"Note: not using Google CoLab\")\n",
    "    COLAB = False"
   ]
  },
  {
   "cell_type": "code",
   "execution_count": 0,
   "metadata": {
    "colab": {},
    "colab_type": "code",
    "id": "DogvW6alzE9e"
   },
   "outputs": [],
   "source": [
    "import tensorflow as tf\n",
    "from tensorflow.keras.layers import Input, Reshape, Dropout, Dense, Flatten, BatchNormalization, Activation, ZeroPadding2D\n",
    "from tensorflow.keras.layers import LeakyReLU\n",
    "from tensorflow.keras.layers import UpSampling2D, Conv2D\n",
    "from tensorflow.keras.models import Sequential, Model, load_model\n",
    "from tensorflow.keras.optimizers import Adam\n",
    "import numpy as np\n",
    "from PIL import Image\n",
    "from tqdm import tqdm\n",
    "import os \n",
    "import time\n",
    "import matplotlib.pyplot as plt"
   ]
  },
  {
   "cell_type": "code",
   "execution_count": 0,
   "metadata": {
    "colab": {},
    "colab_type": "code",
    "id": "etUmGJcozFAq"
   },
   "outputs": [],
   "source": [
    "GENERATE_RES = 3 \n",
    "GENERATE_SQUARE = 32 * GENERATE_RES \n",
    "IMAGE_CHANNELS = 3\n",
    "\n",
    "# Preview image \n",
    "PREVIEW_ROWS = 4\n",
    "PREVIEW_COLS = 7\n",
    "PREVIEW_MARGIN = 16\n",
    "\n",
    "# Size vector to generate images from\n",
    "SEED_SIZE = 100\n",
    "\n",
    "# Configuration\n",
    "DATA_PATH = '/content/drive/My Drive/projects'\n",
    "EPOCHS = 17\n",
    "BATCH_SIZE = 32\n",
    "BUFFER_SIZE = 60000\n"
   ]
  },
  {
   "cell_type": "code",
   "execution_count": 107,
   "metadata": {
    "colab": {
     "base_uri": "https://localhost:8080/",
     "height": 52
    },
    "colab_type": "code",
    "id": "bA0Np_jbzFFg",
    "outputId": "ce989df0-d148-478a-a8e6-e37d1f9b9c5c"
   },
   "outputs": [
    {
     "name": "stdout",
     "output_type": "stream",
     "text": [
      "Looking for file: /content/drive/My Drive/projects/training_data_96_96.npy\n",
      "Loading previous training pickle...\n"
     ]
    }
   ],
   "source": [
    "training_binary_path = os.path.join(DATA_PATH,f'training_data_{GENERATE_SQUARE}_{GENERATE_SQUARE}.npy')\n",
    "\n",
    "print(f\"Looking for file: {training_binary_path}\")\n",
    "\n",
    "if not os.path.isfile(training_binary_path):\n",
    "  start = time.time()\n",
    "  print(\"Loading training images...\")\n",
    "\n",
    "  training_data = []\n",
    "  faces_path = os.path.join(DATA_PATH,'images')\n",
    "  for filename in tqdm(os.listdir(faces_path)):\n",
    "      path = os.path.join(faces_path,filename)\n",
    "      image = Image.open(path).resize((GENERATE_SQUARE,GENERATE_SQUARE),Image.ANTIALIAS)\n",
    "      training_data.append(np.asarray(image))\n",
    "  training_data = np.reshape(training_data,(-1,GENERATE_SQUARE,GENERATE_SQUARE,IMAGE_CHANNELS))\n",
    "  training_data = training_data.astype(np.float32)\n",
    "  training_data = training_data / 127.5 - 1.\n",
    "\n",
    "\n",
    "  print(\"Saving training image binary...\")\n",
    "  np.save(training_binary_path,training_data)\n",
    "  elapsed = time.time()-start\n",
    "  print (f'Image preprocess time: {hms_string(elapsed)}')\n",
    "else:\n",
    "  print(\"Loading previous training pickle...\")\n",
    "  training_data = np.load(training_binary_path)"
   ]
  },
  {
   "cell_type": "code",
   "execution_count": 108,
   "metadata": {
    "colab": {
     "base_uri": "https://localhost:8080/",
     "height": 1000
    },
    "colab_type": "code",
    "id": "CijRcLHHzFKm",
    "outputId": "ff6a1ae9-2b7b-4058-eb40-34e55cfe501f"
   },
   "outputs": [
    {
     "name": "stdout",
     "output_type": "stream",
     "text": [
      "[[[[-0.02745098  0.58431375 -0.27843136]\n",
      "   [-0.02745098  0.58431375 -0.27843136]\n",
      "   [-0.02745098  0.58431375 -0.27843136]\n",
      "   ...\n",
      "   [ 0.04313731  0.52156866 -0.41176468]\n",
      "   [ 0.06666672  0.5294118  -0.41176468]\n",
      "   [ 0.06666672  0.5294118  -0.41176468]]\n",
      "\n",
      "  [[-0.00392157  0.6        -0.26274508]\n",
      "   [-0.02745098  0.5764706  -0.2862745 ]\n",
      "   [-0.03529412  0.56078434 -0.29411763]\n",
      "   ...\n",
      "   [ 0.05098045  0.5294118  -0.40392154]\n",
      "   [ 0.05098045  0.5058824  -0.42745095]\n",
      "   [ 0.04313731  0.5058824  -0.4352941 ]]\n",
      "\n",
      "  [[-0.01960784  0.5764706  -0.27843136]\n",
      "   [-0.03529412  0.5686275  -0.2862745 ]\n",
      "   [-0.04313725  0.5529412  -0.30196077]\n",
      "   ...\n",
      "   [ 0.03529418  0.5137255  -0.41960782]\n",
      "   [ 0.02745104  0.49803925 -0.42745095]\n",
      "   [ 0.03529418  0.5058824  -0.42745095]]\n",
      "\n",
      "  ...\n",
      "\n",
      "  [[-0.9607843  -0.92941177 -0.92156863]\n",
      "   [-0.9607843  -0.92941177 -0.92156863]\n",
      "   [-0.9529412  -0.92941177 -0.92156863]\n",
      "   ...\n",
      "   [-0.7411765  -0.7254902  -0.6862745 ]\n",
      "   [-0.7254902  -0.7254902  -0.64705884]\n",
      "   [-0.7411765  -0.7411765  -0.67058825]]\n",
      "\n",
      "  [[-0.94509804 -0.9137255  -0.90588236]\n",
      "   [-0.94509804 -0.9137255  -0.90588236]\n",
      "   [-0.94509804 -0.9137255  -0.90588236]\n",
      "   ...\n",
      "   [-0.84313726 -0.81960785 -0.78039217]\n",
      "   [-0.84313726 -0.8352941  -0.79607844]\n",
      "   [-0.85882354 -0.8509804  -0.8117647 ]]\n",
      "\n",
      "  [[-0.94509804 -0.9137255  -0.8901961 ]\n",
      "   [-0.94509804 -0.9137255  -0.8901961 ]\n",
      "   [-0.94509804 -0.9137255  -0.8901961 ]\n",
      "   ...\n",
      "   [-0.9372549  -0.90588236 -0.8901961 ]\n",
      "   [-0.9372549  -0.92156863 -0.92156863]\n",
      "   [-0.94509804 -0.92941177 -0.92941177]]]\n",
      "\n",
      "\n",
      " [[[-0.01176471  0.5921569  -0.2862745 ]\n",
      "   [-0.00392157  0.6        -0.27843136]\n",
      "   [-0.01176471  0.58431375 -0.2862745 ]\n",
      "   ...\n",
      "   [ 0.05098045  0.5137255  -0.38823527]\n",
      "   [ 0.03529418  0.5294118  -0.38039213]\n",
      "   [ 0.02745104  0.52156866 -0.3960784 ]]\n",
      "\n",
      "  [[-0.02745098  0.5764706  -0.30196077]\n",
      "   [-0.02745098  0.5764706  -0.30196077]\n",
      "   [-0.02745098  0.5686275  -0.3098039 ]\n",
      "   ...\n",
      "   [ 0.04313731  0.5137255  -0.3960784 ]\n",
      "   [ 0.02745104  0.5137255  -0.40392154]\n",
      "   [ 0.02745104  0.5137255  -0.40392154]]\n",
      "\n",
      "  [[-0.01176471  0.5764706  -0.29411763]\n",
      "   [-0.01960784  0.5686275  -0.30196077]\n",
      "   [-0.01960784  0.56078434 -0.3098039 ]\n",
      "   ...\n",
      "   [ 0.03529418  0.49803925 -0.41176468]\n",
      "   [ 0.03529418  0.5137255  -0.41176468]\n",
      "   [ 0.04313731  0.52156866 -0.40392154]]\n",
      "\n",
      "  ...\n",
      "\n",
      "  [[-0.9372549  -0.92941177 -0.8980392 ]\n",
      "   [-0.9372549  -0.92941177 -0.8980392 ]\n",
      "   [-0.9372549  -0.92941177 -0.8901961 ]\n",
      "   ...\n",
      "   [-0.7882353  -0.73333335 -0.6862745 ]\n",
      "   [-0.7882353  -0.75686276 -0.70980394]\n",
      "   [-0.81960785 -0.7882353  -0.7411765 ]]\n",
      "\n",
      "  [[-0.92156863 -0.9137255  -0.88235295]\n",
      "   [-0.92156863 -0.9137255  -0.88235295]\n",
      "   [-0.92156863 -0.9137255  -0.8901961 ]\n",
      "   ...\n",
      "   [-0.8980392  -0.85882354 -0.827451  ]\n",
      "   [-0.8980392  -0.8666667  -0.8509804 ]\n",
      "   [-0.92941177 -0.8980392  -0.88235295]]\n",
      "\n",
      "  [[-0.92156863 -0.9137255  -0.88235295]\n",
      "   [-0.92156863 -0.9137255  -0.88235295]\n",
      "   [-0.92156863 -0.9137255  -0.88235295]\n",
      "   ...\n",
      "   [-0.96862745 -0.92941177 -0.9137255 ]\n",
      "   [-0.9607843  -0.92941177 -0.9529412 ]\n",
      "   [-0.9529412  -0.92941177 -0.94509804]]]\n",
      "\n",
      "\n",
      " [[[-0.01960784  0.5921569  -0.24705881]\n",
      "   [-0.01960784  0.58431375 -0.24705881]\n",
      "   [ 0.00392163  0.60784316 -0.2235294 ]\n",
      "   ...\n",
      "   [ 0.05882359  0.54509807 -0.3960784 ]\n",
      "   [ 0.04313731  0.5372549  -0.40392154]\n",
      "   [ 0.0196079   0.52156866 -0.41960782]]\n",
      "\n",
      "  [[-0.03529412  0.56078434 -0.26274508]\n",
      "   [-0.00392157  0.5921569  -0.23137254]\n",
      "   [-0.02745098  0.5686275  -0.26274508]\n",
      "   ...\n",
      "   [ 0.03529418  0.52156866 -0.41960782]\n",
      "   [ 0.06666672  0.54509807 -0.38823527]\n",
      "   [ 0.04313731  0.52156866 -0.41176468]]\n",
      "\n",
      "  [[-0.04313725  0.54509807 -0.27843136]\n",
      "   [-0.01960784  0.5686275  -0.25490195]\n",
      "   [-0.03529412  0.5529412  -0.27058822]\n",
      "   ...\n",
      "   [ 0.03529418  0.5137255  -0.41960782]\n",
      "   [ 0.06666672  0.52156866 -0.3960784 ]\n",
      "   [ 0.05882359  0.5137255  -0.41176468]]\n",
      "\n",
      "  ...\n",
      "\n",
      "  [[-0.94509804 -0.9137255  -0.8901961 ]\n",
      "   [-0.94509804 -0.9137255  -0.8901961 ]\n",
      "   [-0.9372549  -0.90588236 -0.88235295]\n",
      "   ...\n",
      "   [-0.8117647  -0.78039217 -0.78039217]\n",
      "   [-0.8117647  -0.8117647  -0.73333335]\n",
      "   [-0.827451   -0.827451   -0.7490196 ]]\n",
      "\n",
      "  [[-0.94509804 -0.9137255  -0.8901961 ]\n",
      "   [-0.94509804 -0.9137255  -0.8901961 ]\n",
      "   [-0.9529412  -0.92156863 -0.8980392 ]\n",
      "   ...\n",
      "   [-0.9372549  -0.90588236 -0.90588236]\n",
      "   [-0.92156863 -0.9137255  -0.88235295]\n",
      "   [-0.92941177 -0.92156863 -0.8901961 ]]\n",
      "\n",
      "  [[-0.92941177 -0.8980392  -0.8745098 ]\n",
      "   [-0.92941177 -0.8980392  -0.8745098 ]\n",
      "   [-0.9372549  -0.90588236 -0.88235295]\n",
      "   ...\n",
      "   [-0.9764706  -0.9372549  -0.9607843 ]\n",
      "   [-0.9529412  -0.9372549  -0.9529412 ]\n",
      "   [-0.9607843  -0.94509804 -0.9607843 ]]]\n",
      "\n",
      "\n",
      " ...\n",
      "\n",
      "\n",
      " [[[-0.24705881  0.14509809 -0.52156866]\n",
      "   [-0.24705881  0.14509809 -0.52156866]\n",
      "   [-0.24705881  0.14509809 -0.52156866]\n",
      "   ...\n",
      "   [-0.20784312  0.19215691 -0.6       ]\n",
      "   [-0.2235294   0.17647064 -0.6156863 ]\n",
      "   [-0.23921567  0.16078436 -0.6313726 ]]\n",
      "\n",
      "  [[-0.27058822  0.12156868 -0.54509807]\n",
      "   [-0.25490195  0.13725495 -0.5294118 ]\n",
      "   [-0.24705881  0.14509809 -0.52156866]\n",
      "   ...\n",
      "   [-0.2235294   0.17647064 -0.6156863 ]\n",
      "   [-0.16862744  0.19215691 -0.58431375]\n",
      "   [-0.19999999  0.1686275  -0.60784316]]\n",
      "\n",
      "  [[-0.27843136  0.11372554 -0.5529412 ]\n",
      "   [-0.27058822  0.12156868 -0.54509807]\n",
      "   [-0.26274508  0.12941182 -0.5372549 ]\n",
      "   ...\n",
      "   [-0.19215685  0.18431377 -0.5921569 ]\n",
      "   [-0.15294117  0.1686275  -0.58431375]\n",
      "   [-0.17647058  0.15294123 -0.60784316]]\n",
      "\n",
      "  ...\n",
      "\n",
      "  [[-0.88235295 -0.8666667  -0.8745098 ]\n",
      "   [-0.88235295 -0.8666667  -0.8745098 ]\n",
      "   [-0.88235295 -0.8666667  -0.8745098 ]\n",
      "   ...\n",
      "   [-0.9137255  -0.90588236 -0.9137255 ]\n",
      "   [-0.90588236 -0.8901961  -0.92941177]\n",
      "   [-0.8980392  -0.8745098  -0.9137255 ]]\n",
      "\n",
      "  [[-0.8745098  -0.85882354 -0.8666667 ]\n",
      "   [-0.88235295 -0.8666667  -0.8745098 ]\n",
      "   [-0.8745098  -0.85882354 -0.8666667 ]\n",
      "   ...\n",
      "   [-0.8980392  -0.8980392  -0.8980392 ]\n",
      "   [-0.8980392  -0.8745098  -0.92156863]\n",
      "   [-0.8745098  -0.85882354 -0.90588236]]\n",
      "\n",
      "  [[-0.88235295 -0.8666667  -0.8745098 ]\n",
      "   [-0.90588236 -0.8901961  -0.8980392 ]\n",
      "   [-0.90588236 -0.8901961  -0.8980392 ]\n",
      "   ...\n",
      "   [-0.90588236 -0.90588236 -0.9137255 ]\n",
      "   [-0.90588236 -0.88235295 -0.94509804]\n",
      "   [-0.8901961  -0.8666667  -0.92156863]]]\n",
      "\n",
      "\n",
      " [[[-0.27058822  0.11372554 -0.52156866]\n",
      "   [-0.25490195  0.12941182 -0.5058824 ]\n",
      "   [-0.25490195  0.12941182 -0.5137255 ]\n",
      "   ...\n",
      "   [-0.2235294   0.14509809 -0.6       ]\n",
      "   [-0.19999999  0.15294123 -0.56078434]\n",
      "   [-0.21568626  0.13725495 -0.5764706 ]]\n",
      "\n",
      "  [[-0.29411763  0.09019613 -0.5529412 ]\n",
      "   [-0.26274508  0.12156868 -0.52156866]\n",
      "   [-0.25490195  0.12941182 -0.5137255 ]\n",
      "   ...\n",
      "   [-0.2235294   0.14509809 -0.6       ]\n",
      "   [-0.19999999  0.15294123 -0.56078434]\n",
      "   [-0.21568626  0.13725495 -0.5764706 ]]\n",
      "\n",
      "  [[-0.27058822  0.12156868 -0.5529412 ]\n",
      "   [-0.29411763  0.09803927 -0.5764706 ]\n",
      "   [-0.3098039   0.082353   -0.5921569 ]\n",
      "   ...\n",
      "   [-0.23137254  0.13725495 -0.60784316]\n",
      "   [-0.21568626  0.13725495 -0.5764706 ]\n",
      "   [-0.2235294   0.12941182 -0.58431375]]\n",
      "\n",
      "  ...\n",
      "\n",
      "  [[-0.8039216  -0.79607844 -0.8117647 ]\n",
      "   [-0.8352941  -0.827451   -0.84313726]\n",
      "   [-0.85882354 -0.85882354 -0.8745098 ]\n",
      "   ...\n",
      "   [-0.88235295 -0.88235295 -0.8980392 ]\n",
      "   [-0.8901961  -0.8901961  -0.90588236]\n",
      "   [-0.92156863 -0.92156863 -0.9372549 ]]\n",
      "\n",
      "  [[-0.8666667  -0.8666667  -0.88235295]\n",
      "   [-0.8745098  -0.8745098  -0.8901961 ]\n",
      "   [-0.8745098  -0.8745098  -0.8901961 ]\n",
      "   ...\n",
      "   [-0.8666667  -0.8666667  -0.88235295]\n",
      "   [-0.88235295 -0.88235295 -0.8980392 ]\n",
      "   [-0.9137255  -0.9137255  -0.92941177]]\n",
      "\n",
      "  [[-0.8901961  -0.8901961  -0.90588236]\n",
      "   [-0.8980392  -0.8980392  -0.9137255 ]\n",
      "   [-0.90588236 -0.90588236 -0.92156863]\n",
      "   ...\n",
      "   [-0.88235295 -0.88235295 -0.8980392 ]\n",
      "   [-0.8901961  -0.8901961  -0.90588236]\n",
      "   [-0.92941177 -0.92941177 -0.94509804]]]\n",
      "\n",
      "\n",
      " [[[-0.29411763  0.09803927 -0.6       ]\n",
      "   [-0.2862745   0.10588241 -0.5921569 ]\n",
      "   [-0.25490195  0.13725495 -0.56078434]\n",
      "   ...\n",
      "   [-0.20784312  0.15294123 -0.5686275 ]\n",
      "   [-0.19999999  0.10588241 -0.5921569 ]\n",
      "   [-0.18431371  0.12156868 -0.5764706 ]]\n",
      "\n",
      "  [[-0.26274508  0.12941182 -0.5686275 ]\n",
      "   [-0.26274508  0.12941182 -0.5686275 ]\n",
      "   [-0.25490195  0.13725495 -0.56078434]\n",
      "   ...\n",
      "   [-0.21568626  0.14509809 -0.5686275 ]\n",
      "   [-0.17647058  0.12941182 -0.56078434]\n",
      "   [-0.17647058  0.12941182 -0.5686275 ]]\n",
      "\n",
      "  [[-0.27058822  0.12156868 -0.5764706 ]\n",
      "   [-0.27058822  0.12156868 -0.5764706 ]\n",
      "   [-0.25490195  0.13725495 -0.56078434]\n",
      "   ...\n",
      "   [-0.20784312  0.15294123 -0.5764706 ]\n",
      "   [-0.18431371  0.12941182 -0.5764706 ]\n",
      "   [-0.19215685  0.12941182 -0.58431375]]\n",
      "\n",
      "  ...\n",
      "\n",
      "  [[-0.8117647  -0.8117647  -0.827451  ]\n",
      "   [-0.827451   -0.827451   -0.84313726]\n",
      "   [-0.84313726 -0.84313726 -0.85882354]\n",
      "   ...\n",
      "   [-0.9137255  -0.9137255  -0.9137255 ]\n",
      "   [-0.92156863 -0.90588236 -0.92156863]\n",
      "   [-0.9137255  -0.8980392  -0.92156863]]\n",
      "\n",
      "  [[-0.85882354 -0.85882354 -0.8745098 ]\n",
      "   [-0.8666667  -0.8666667  -0.88235295]\n",
      "   [-0.8901961  -0.8901961  -0.90588236]\n",
      "   ...\n",
      "   [-0.8901961  -0.88235295 -0.8901961 ]\n",
      "   [-0.9137255  -0.8980392  -0.92156863]\n",
      "   [-0.9137255  -0.8980392  -0.92156863]]\n",
      "\n",
      "  [[-0.8901961  -0.8901961  -0.90588236]\n",
      "   [-0.88235295 -0.88235295 -0.8980392 ]\n",
      "   [-0.8666667  -0.8666667  -0.88235295]\n",
      "   ...\n",
      "   [-0.88235295 -0.88235295 -0.88235295]\n",
      "   [-0.92941177 -0.9137255  -0.9372549 ]\n",
      "   [-0.92941177 -0.9137255  -0.9372549 ]]]]\n"
     ]
    }
   ],
   "source": [
    "print(training_data)"
   ]
  },
  {
   "cell_type": "code",
   "execution_count": 0,
   "metadata": {
    "colab": {},
    "colab_type": "code",
    "id": "0_qh1bPjzFN9"
   },
   "outputs": [],
   "source": [
    "train_dataset = tf.data.Dataset.from_tensor_slices(training_data).shuffle(BUFFER_SIZE).batch(BATCH_SIZE)"
   ]
  },
  {
   "cell_type": "code",
   "execution_count": 0,
   "metadata": {
    "colab": {},
    "colab_type": "code",
    "id": "eULl-eXEzFDj"
   },
   "outputs": [],
   "source": [
    "def build_generator(seed_size, channels):\n",
    "    model = Sequential()\n",
    "\n",
    "    model.add(Dense(4*4*256,activation=\"relu\",input_dim=seed_size))\n",
    "    model.add(Reshape((4,4,256)))\n",
    "\n",
    "    model.add(UpSampling2D())\n",
    "    model.add(Conv2D(256,kernel_size=3,padding=\"same\"))\n",
    "    model.add(BatchNormalization(momentum=0.8))\n",
    "    model.add(Activation(\"relu\"))\n",
    "\n",
    "    model.add(UpSampling2D())\n",
    "    model.add(Conv2D(256,kernel_size=3,padding=\"same\"))\n",
    "    model.add(BatchNormalization(momentum=0.8))\n",
    "    model.add(Activation(\"relu\"))\n",
    "   \n",
    "    # Output resolution, additional upsampling\n",
    "    model.add(UpSampling2D())\n",
    "    model.add(Conv2D(128,kernel_size=3,padding=\"same\"))\n",
    "    model.add(BatchNormalization(momentum=0.8))\n",
    "    model.add(Activation(\"relu\"))\n",
    "\n",
    "    if GENERATE_RES>1:\n",
    "      model.add(UpSampling2D(size=(GENERATE_RES,GENERATE_RES)))\n",
    "      model.add(Conv2D(128,kernel_size=3,padding=\"same\"))\n",
    "      model.add(BatchNormalization(momentum=0.8))\n",
    "      model.add(Activation(\"relu\"))\n",
    "\n",
    "    # Final CNN layer\n",
    "    model.add(Conv2D(channels,kernel_size=3,padding=\"same\"))\n",
    "    model.add(Activation(\"tanh\"))\n",
    "\n",
    "    return model\n",
    "\n",
    "def build_discriminator(image_shape):\n",
    "    model = Sequential()\n",
    "\n",
    "    model.add(Conv2D(32, kernel_size=3, strides=2, input_shape=image_shape, padding=\"same\"))\n",
    "    model.add(LeakyReLU(alpha=0.2))\n",
    "\n",
    "    model.add(Dropout(0.25))\n",
    "    model.add(Conv2D(64, kernel_size=3, strides=2, padding=\"same\"))\n",
    "    model.add(ZeroPadding2D(padding=((0,1),(0,1))))\n",
    "    model.add(BatchNormalization(momentum=0.8))\n",
    "    model.add(LeakyReLU(alpha=0.2))\n",
    "\n",
    "    model.add(Dropout(0.25))\n",
    "    model.add(Conv2D(128, kernel_size=3, strides=2, padding=\"same\"))\n",
    "    model.add(BatchNormalization(momentum=0.8))\n",
    "    model.add(LeakyReLU(alpha=0.2))\n",
    "\n",
    "    model.add(Dropout(0.25))\n",
    "    model.add(Conv2D(256, kernel_size=3, strides=1, padding=\"same\"))\n",
    "    model.add(BatchNormalization(momentum=0.8))\n",
    "    model.add(LeakyReLU(alpha=0.2))\n",
    "\n",
    "    model.add(Dropout(0.25))\n",
    "    model.add(Conv2D(512, kernel_size=3, strides=1, padding=\"same\"))\n",
    "    model.add(BatchNormalization(momentum=0.8))\n",
    "    model.add(LeakyReLU(alpha=0.2))\n",
    "\n",
    "    model.add(Dropout(0.25))\n",
    "    model.add(Flatten())\n",
    "    model.add(Dense(1, activation='sigmoid'))\n",
    "\n",
    "    return model"
   ]
  },
  {
   "cell_type": "code",
   "execution_count": 0,
   "metadata": {
    "colab": {},
    "colab_type": "code",
    "id": "2ybRNNmqPTta"
   },
   "outputs": [],
   "source": [
    "def save_images(cnt,noise):\n",
    "  image_array = np.full(( \n",
    "      PREVIEW_MARGIN + (PREVIEW_ROWS * (GENERATE_SQUARE+PREVIEW_MARGIN)), \n",
    "      PREVIEW_MARGIN + (PREVIEW_COLS * (GENERATE_SQUARE+PREVIEW_MARGIN)), 3), \n",
    "      255, dtype=np.uint8)\n",
    "  \n",
    "  generated_images = generator.predict(noise)\n",
    "\n",
    "  generated_images = 0.5 * generated_images + 0.5\n",
    "\n",
    "  image_count = 0\n",
    "  for row in range(PREVIEW_ROWS):\n",
    "      for col in range(PREVIEW_COLS):\n",
    "        r = row * (GENERATE_SQUARE+16) + PREVIEW_MARGIN\n",
    "        c = col * (GENERATE_SQUARE+16) + PREVIEW_MARGIN\n",
    "        image_array[r:r+GENERATE_SQUARE,c:c+GENERATE_SQUARE] = generated_images[image_count] * 255\n",
    "        image_count += 1\n",
    "\n",
    "          \n",
    "  output_path = os.path.join(DATA_PATH,'output')\n",
    "  if not os.path.exists(output_path):\n",
    "    os.makedirs(output_path)\n",
    "  \n",
    "  filename = os.path.join(output_path,f\"train-{cnt}.png\")\n",
    "  im = Image.fromarray(image_array)\n",
    "  im.save(filename)"
   ]
  },
  {
   "cell_type": "code",
   "execution_count": 112,
   "metadata": {
    "colab": {
     "base_uri": "https://localhost:8080/",
     "height": 285
    },
    "colab_type": "code",
    "id": "q2pbwq79PTwK",
    "outputId": "35e3d87d-8805-4eb9-f51a-4876abe48650"
   },
   "outputs": [
    {
     "data": {
      "text/plain": [
       "<matplotlib.image.AxesImage at 0x7f5aaaa7f550>"
      ]
     },
     "execution_count": 112,
     "metadata": {
      "tags": []
     },
     "output_type": "execute_result"
    },
    {
     "data": {
      "image/png": "[encoded data removed]",
      "text/plain": [
       "<Figure size 432x288 with 1 Axes>"
      ]
     },
     "metadata": {
      "needs_background": "light",
      "tags": []
     },
     "output_type": "display_data"
    }
   ],
   "source": [
    "generator = build_generator(SEED_SIZE, IMAGE_CHANNELS)\n",
    "\n",
    "noise = tf.random.normal([1, SEED_SIZE])\n",
    "generated_image = generator(noise, training=False)\n",
    "\n",
    "plt.imshow(generated_image[0, :, :, 0])"
   ]
  },
  {
   "cell_type": "code",
   "execution_count": 113,
   "metadata": {
    "colab": {
     "base_uri": "https://localhost:8080/",
     "height": 35
    },
    "colab_type": "code",
    "id": "4wFX_H92PT4I",
    "outputId": "496a940c-0b50-4601-b616-c30eb1bee652"
   },
   "outputs": [
    {
     "name": "stdout",
     "output_type": "stream",
     "text": [
      "tf.Tensor([[0.5008074]], shape=(1, 1), dtype=float32)\n"
     ]
    }
   ],
   "source": [
    "image_shape = (GENERATE_SQUARE,GENERATE_SQUARE,IMAGE_CHANNELS)\n",
    "\n",
    "discriminator = build_discriminator(image_shape)\n",
    "decision = discriminator(generated_image)\n",
    "print (decision)"
   ]
  },
  {
   "cell_type": "code",
   "execution_count": 0,
   "metadata": {
    "colab": {},
    "colab_type": "code",
    "id": "bMSFikV_PT9u"
   },
   "outputs": [],
   "source": [
    "# This method returns a helper function to compute cross entropy loss\n",
    "cross_entropy = tf.keras.losses.BinaryCrossentropy(from_logits=True)\n",
    "\n",
    "def discriminator_loss(real_output, fake_output):\n",
    "    real_loss = cross_entropy(tf.ones_like(real_output), real_output)\n",
    "    fake_loss = cross_entropy(tf.zeros_like(fake_output), fake_output)\n",
    "    total_loss = real_loss + fake_loss\n",
    "    return total_loss\n",
    "\n",
    "def generator_loss(fake_output):\n",
    "    return cross_entropy(tf.ones_like(fake_output), fake_output)"
   ]
  },
  {
   "cell_type": "code",
   "execution_count": 0,
   "metadata": {
    "colab": {},
    "colab_type": "code",
    "id": "-E-wO2qVPUAb"
   },
   "outputs": [],
   "source": [
    "generator_optimizer = tf.keras.optimizers.Adam(1.5e-4,0.5)\n",
    "discriminator_optimizer = tf.keras.optimizers.Adam(1.5e-4,0.5)"
   ]
  },
  {
   "cell_type": "code",
   "execution_count": 0,
   "metadata": {
    "colab": {},
    "colab_type": "code",
    "id": "GCh4N2wSPUFc"
   },
   "outputs": [],
   "source": [
    "# Notice the use of `tf.function`\n",
    "# This annotation causes the function to be \"compiled\".\n",
    "@tf.function\n",
    "def train_step(images):\n",
    "  seed = tf.random.normal([BATCH_SIZE, SEED_SIZE])\n",
    "\n",
    "  with tf.GradientTape() as gen_tape, tf.GradientTape() as disc_tape:\n",
    "    generated_images = generator(seed, training=True)\n",
    "\n",
    "    real_output = discriminator(images, training=True)\n",
    "    fake_output = discriminator(generated_images, training=True)\n",
    "\n",
    "    gen_loss = generator_loss(fake_output)\n",
    "    disc_loss = discriminator_loss(real_output, fake_output)\n",
    "    \n",
    "\n",
    "    gradients_of_generator = gen_tape.gradient(gen_loss, generator.trainable_variables)\n",
    "    gradients_of_discriminator = disc_tape.gradient(disc_loss, discriminator.trainable_variables)\n",
    "\n",
    "    generator_optimizer.apply_gradients(zip(gradients_of_generator, generator.trainable_variables))\n",
    "    discriminator_optimizer.apply_gradients(zip(gradients_of_discriminator, discriminator.trainable_variables))\n",
    "  return gen_loss,disc_loss"
   ]
  },
  {
   "cell_type": "code",
   "execution_count": 0,
   "metadata": {
    "colab": {},
    "colab_type": "code",
    "id": "QZwQ0l4APUJr"
   },
   "outputs": [],
   "source": [
    "def train(dataset, epochs):\n",
    "  fixed_seed = np.random.normal(0, 1, (PREVIEW_ROWS * PREVIEW_COLS, SEED_SIZE))\n",
    "  start = time.time()\n",
    "\n",
    "  for epoch in range(epochs):\n",
    "    epoch_start = time.time()\n",
    "\n",
    "    gen_loss_list = []\n",
    "    disc_loss_list = []\n",
    "\n",
    "    for image_batch in dataset:\n",
    "      t = train_step(image_batch)\n",
    "      gen_loss_list.append(t[0])\n",
    "      disc_loss_list.append(t[1])\n",
    "\n",
    "    g_loss = sum(gen_loss_list) / len(gen_loss_list)\n",
    "    d_loss = sum(disc_loss_list) / len(disc_loss_list)\n",
    "\n",
    "    epoch_elapsed = time.time()-epoch_start\n",
    "    print (f'Epoch {epoch+1}, gen loss={g_loss},disc loss={d_loss}, {hms_string(epoch_elapsed)}')\n",
    "    save_images(epoch,fixed_seed)\n",
    "\n",
    "  elapsed = time.time()-start\n",
    "  print (f'Training time: {hms_string(elapsed)}')"
   ]
  },
  {
   "cell_type": "code",
   "execution_count": 121,
   "metadata": {
    "colab": {
     "base_uri": "https://localhost:8080/",
     "height": 329
    },
    "colab_type": "code",
    "id": "lOG1wZ8_PUD0",
    "outputId": "56539752-6872-4dd0-c409-e9aad6977a31"
   },
   "outputs": [
    {
     "name": "stdout",
     "output_type": "stream",
     "text": [
      "Epoch 1, gen loss=0.6715224385261536,disc loss=1.0838977098464966, 0:00:15.73\n",
      "Epoch 2, gen loss=0.6751478910446167,disc loss=1.0706942081451416, 0:00:15.74\n",
      "Epoch 3, gen loss=0.6783835291862488,disc loss=1.0541541576385498, 0:00:15.68\n",
      "Epoch 4, gen loss=0.6817211508750916,disc loss=1.0485910177230835, 0:00:15.66\n",
      "Epoch 5, gen loss=0.6839825510978699,disc loss=1.0429160594940186, 0:00:15.69\n",
      "Epoch 6, gen loss=0.6827782392501831,disc loss=1.0392732620239258, 0:00:15.66\n",
      "Epoch 7, gen loss=0.6925750374794006,disc loss=1.0080574750900269, 0:00:15.72\n",
      "Epoch 8, gen loss=0.6828005313873291,disc loss=1.0974018573760986, 0:00:15.66\n",
      "Epoch 9, gen loss=0.6787500977516174,disc loss=1.0540790557861328, 0:00:15.68\n",
      "Epoch 10, gen loss=0.6793431043624878,disc loss=1.0512664318084717, 0:00:15.71\n",
      "Epoch 11, gen loss=0.68415766954422,disc loss=1.0462791919708252, 0:00:15.68\n",
      "Epoch 12, gen loss=0.6884342432022095,disc loss=1.0218249559402466, 0:00:15.68\n",
      "Epoch 13, gen loss=0.6836397647857666,disc loss=1.0364465713500977, 0:00:15.66\n",
      "Epoch 14, gen loss=0.6839613318443298,disc loss=1.0347907543182373, 0:00:15.66\n",
      "Epoch 15, gen loss=0.6806908845901489,disc loss=1.0446057319641113, 0:00:15.70\n",
      "Epoch 16, gen loss=0.682201623916626,disc loss=1.0400789976119995, 0:00:15.67\n",
      "Epoch 17, gen loss=0.6816824078559875,disc loss=1.0424319505691528, 0:00:15.66\n",
      "Training time: 0:04:29.75\n"
     ]
    }
   ],
   "source": [
    "train(train_dataset, EPOCHS)"
   ]
  },
  {
   "cell_type": "code",
   "execution_count": 0,
   "metadata": {
    "colab": {},
    "colab_type": "code",
    "id": "f6uegjX8PT8L"
   },
   "outputs": [],
   "source": [
    "generator.save(os.path.join(DATA_PATH,\"face_generator.h5\"))"
   ]
  },
  {
   "cell_type": "markdown",
   "metadata": {},
   "source": [
    "## Initial noise images\n",
    "![title](Training_the_model.PNG)"
   ]
  },
  {
   "cell_type": "markdown",
   "metadata": {},
   "source": [
    "## Output\n",
    "![title](Model1.PNG)"
   ]
  },
  {
   "cell_type": "markdown",
   "metadata": {
    "colab": {},
    "colab_type": "code",
    "id": "uor5ogTHPT2w"
   },
   "source": [
    "## Model 2\n",
    "Changing the epoch to 50.\n",
    "Changing the activation of the genrator's activation function to 'Tanh'. \n",
    "Changing the Optimizer to RMSProp."
   ]
  },
  {
   "cell_type": "code",
   "execution_count": 0,
   "metadata": {
    "colab": {},
    "colab_type": "code",
    "id": "OxFYsLr2PT06"
   },
   "outputs": [],
   "source": [
    "def build_generator(seed_size, channels):\n",
    "    model = Sequential()\n",
    "\n",
    "    model.add(Dense(4*4*256,activation=\"relu\",input_dim=seed_size))\n",
    "    model.add(Reshape((4,4,256)))\n",
    "\n",
    "    model.add(UpSampling2D())\n",
    "    model.add(Conv2D(256,kernel_size=3,padding=\"same\"))\n",
    "    model.add(BatchNormalization(momentum=0.8))\n",
    "    model.add(Activation(\"tanh\"))\n",
    "\n",
    "    model.add(UpSampling2D())\n",
    "    model.add(Conv2D(256,kernel_size=3,padding=\"same\"))\n",
    "    model.add(BatchNormalization(momentum=0.8))\n",
    "    model.add(Activation(\"tanh\"))\n",
    "   \n",
    "    # Output resolution, additional upsampling\n",
    "    model.add(UpSampling2D())\n",
    "    model.add(Conv2D(128,kernel_size=3,padding=\"same\"))\n",
    "    model.add(BatchNormalization(momentum=0.8))\n",
    "    model.add(Activation(\"tanh\"))\n",
    "\n",
    "    if GENERATE_RES>1:\n",
    "      model.add(UpSampling2D(size=(GENERATE_RES,GENERATE_RES)))\n",
    "      model.add(Conv2D(128,kernel_size=3,padding=\"same\"))\n",
    "      model.add(BatchNormalization(momentum=0.8))\n",
    "      model.add(Activation(\"tanh\"))\n",
    "\n",
    "    # Final CNN layer\n",
    "    model.add(Conv2D(channels,kernel_size=3,padding=\"same\"))\n",
    "    model.add(Activation(\"tanh\"))\n",
    "\n",
    "    return model\n",
    "\n",
    "def build_discriminator(image_shape):\n",
    "    model = Sequential()\n",
    "\n",
    "    model.add(Conv2D(32, kernel_size=3, strides=2, input_shape=image_shape, padding=\"same\"))\n",
    "    model.add(LeakyReLU(alpha=0.2))\n",
    "\n",
    "    model.add(Dropout(0.25))\n",
    "    model.add(Conv2D(64, kernel_size=3, strides=2, padding=\"same\"))\n",
    "    model.add(ZeroPadding2D(padding=((0,1),(0,1))))\n",
    "    model.add(BatchNormalization(momentum=0.8))\n",
    "    model.add(LeakyReLU(alpha=0.2))\n",
    "\n",
    "    model.add(Dropout(0.25))\n",
    "    model.add(Conv2D(128, kernel_size=3, strides=2, padding=\"same\"))\n",
    "    model.add(BatchNormalization(momentum=0.8))\n",
    "    model.add(LeakyReLU(alpha=0.2))\n",
    "\n",
    "    model.add(Dropout(0.25))\n",
    "    model.add(Conv2D(256, kernel_size=3, strides=1, padding=\"same\"))\n",
    "    model.add(BatchNormalization(momentum=0.8))\n",
    "    model.add(LeakyReLU(alpha=0.2))\n",
    "\n",
    "    model.add(Dropout(0.25))\n",
    "    model.add(Conv2D(512, kernel_size=3, strides=1, padding=\"same\"))\n",
    "    model.add(BatchNormalization(momentum=0.8))\n",
    "    model.add(LeakyReLU(alpha=0.2))\n",
    "\n",
    "    model.add(Dropout(0.25))\n",
    "    model.add(Flatten())\n",
    "    model.add(Dense(1, activation='sigmoid'))\n",
    "\n",
    "    return model"
   ]
  },
  {
   "cell_type": "code",
   "execution_count": 0,
   "metadata": {
    "colab": {},
    "colab_type": "code",
    "id": "bqzIcHWOuqvw"
   },
   "outputs": [],
   "source": [
    "def save_images(cnt,noise):\n",
    "  image_array = np.full(( \n",
    "      PREVIEW_MARGIN + (PREVIEW_ROWS * (GENERATE_SQUARE+PREVIEW_MARGIN)), \n",
    "      PREVIEW_MARGIN + (PREVIEW_COLS * (GENERATE_SQUARE+PREVIEW_MARGIN)), 3), \n",
    "      255, dtype=np.uint8)\n",
    "  \n",
    "  generated_images = generator.predict(noise)\n",
    "\n",
    "  generated_images = 0.5 * generated_images + 0.5\n",
    "\n",
    "  image_count = 0\n",
    "  for row in range(PREVIEW_ROWS):\n",
    "      for col in range(PREVIEW_COLS):\n",
    "        r = row * (GENERATE_SQUARE+16) + PREVIEW_MARGIN\n",
    "        c = col * (GENERATE_SQUARE+16) + PREVIEW_MARGIN\n",
    "        image_array[r:r+GENERATE_SQUARE,c:c+GENERATE_SQUARE] = generated_images[image_count] * 255\n",
    "        image_count += 1\n",
    "\n",
    "          \n",
    "  output_path = os.path.join(DATA_PATH,'output_model2')\n",
    "  if not os.path.exists(output_path):\n",
    "    os.makedirs(output_path)\n",
    "  \n",
    "  filename = os.path.join(output_path,f\"train-{cnt}.png\")\n",
    "  im = Image.fromarray(image_array)\n",
    "  im.save(filename)"
   ]
  },
  {
   "cell_type": "code",
   "execution_count": 0,
   "metadata": {
    "colab": {},
    "colab_type": "code",
    "id": "wYFRBiMTu1Oi"
   },
   "outputs": [],
   "source": [
    "# This method returns a helper function to compute cross entropy loss\n",
    "cross_entropy = tf.keras.losses.BinaryCrossentropy(from_logits=True)\n",
    "\n",
    "def discriminator_loss(real_output, fake_output):\n",
    "    real_loss = cross_entropy(tf.ones_like(real_output), real_output)\n",
    "    fake_loss = cross_entropy(tf.zeros_like(fake_output), fake_output)\n",
    "    total_loss = real_loss + fake_loss\n",
    "    return total_loss\n",
    "\n",
    "def generator_loss(fake_output):\n",
    "    return cross_entropy(tf.ones_like(fake_output), fake_output)"
   ]
  },
  {
   "cell_type": "code",
   "execution_count": 0,
   "metadata": {
    "colab": {},
    "colab_type": "code",
    "id": "aeCpcLgDvDzs"
   },
   "outputs": [],
   "source": [
    "generator_optimizer = tf.keras.optimizers.RMSprop(1.5e-4,0.5)\n",
    "discriminator_optimizer = tf.keras.optimizers.RMSprop(1.5e-4,0.5)"
   ]
  },
  {
   "cell_type": "code",
   "execution_count": 0,
   "metadata": {
    "colab": {},
    "colab_type": "code",
    "id": "QnzdI0o_vFv7"
   },
   "outputs": [],
   "source": [
    "# Notice the use of `tf.function`\n",
    "# This annotation causes the function to be \"compiled\".\n",
    "@tf.function\n",
    "def train_step(images):\n",
    "  seed = tf.random.normal([BATCH_SIZE, SEED_SIZE])\n",
    "\n",
    "  with tf.GradientTape() as gen_tape, tf.GradientTape() as disc_tape:\n",
    "    generated_images = generator(seed, training=True)\n",
    "\n",
    "    real_output = discriminator(images, training=True)\n",
    "    fake_output = discriminator(generated_images, training=True)\n",
    "\n",
    "    gen_loss = generator_loss(fake_output)\n",
    "    disc_loss = discriminator_loss(real_output, fake_output)\n",
    "    \n",
    "\n",
    "    gradients_of_generator = gen_tape.gradient(gen_loss, generator.trainable_variables)\n",
    "    gradients_of_discriminator = disc_tape.gradient(disc_loss, discriminator.trainable_variables)\n",
    "\n",
    "    generator_optimizer.apply_gradients(zip(gradients_of_generator, generator.trainable_variables))\n",
    "    discriminator_optimizer.apply_gradients(zip(gradients_of_discriminator, discriminator.trainable_variables))\n",
    "  return gen_loss,disc_loss"
   ]
  },
  {
   "cell_type": "code",
   "execution_count": 0,
   "metadata": {
    "colab": {},
    "colab_type": "code",
    "id": "A7OIvUBTvKO5"
   },
   "outputs": [],
   "source": [
    "def train(dataset, epochs):\n",
    "  fixed_seed = np.random.normal(0, 1, (PREVIEW_ROWS * PREVIEW_COLS, SEED_SIZE))\n",
    "  start = time.time()\n",
    "\n",
    "  for epoch in range(epochs):\n",
    "    epoch_start = time.time()\n",
    "\n",
    "    gen_loss_list = []\n",
    "    disc_loss_list = []\n",
    "\n",
    "    for image_batch in dataset:\n",
    "      t = train_step(image_batch)\n",
    "      gen_loss_list.append(t[0])\n",
    "      disc_loss_list.append(t[1])\n",
    "\n",
    "    g_loss = sum(gen_loss_list) / len(gen_loss_list)\n",
    "    d_loss = sum(disc_loss_list) / len(disc_loss_list)\n",
    "\n",
    "    epoch_elapsed = time.time()-epoch_start\n",
    "    print (f'Epoch {epoch+1}, gen loss={g_loss},disc loss={d_loss}, {hms_string(epoch_elapsed)}')\n",
    "    save_images(epoch,fixed_seed)\n",
    "\n",
    "  elapsed = time.time()-start\n",
    "  print (f'Training time: {hms_string(elapsed)}')"
   ]
  },
  {
   "cell_type": "code",
   "execution_count": 0,
   "metadata": {
    "colab": {},
    "colab_type": "code",
    "id": "xsXlhB8KvYwd"
   },
   "outputs": [],
   "source": [
    "generator = build_generator(SEED_SIZE, IMAGE_CHANNELS)\n",
    "\n",
    "noise = tf.random.normal([1, SEED_SIZE])\n",
    "generated_image = generator(noise, training=False)"
   ]
  },
  {
   "cell_type": "code",
   "execution_count": 0,
   "metadata": {
    "colab": {},
    "colab_type": "code",
    "id": "Khzi35gbvfRP"
   },
   "outputs": [],
   "source": [
    "image_shape = (GENERATE_SQUARE,GENERATE_SQUARE,IMAGE_CHANNELS)\n",
    "\n",
    "discriminator = build_discriminator(image_shape)"
   ]
  },
  {
   "cell_type": "code",
   "execution_count": 154,
   "metadata": {
    "colab": {
     "base_uri": "https://localhost:8080/",
     "height": 901
    },
    "colab_type": "code",
    "id": "Grk7Y1dfv3xl",
    "outputId": "905c50f9-047f-4d37-d01f-fb84f14f01f3"
   },
   "outputs": [
    {
     "name": "stdout",
     "output_type": "stream",
     "text": [
      "Epoch 1, gen loss=0.6364523768424988,disc loss=1.2383452653884888, 0:00:22.18\n",
      "Epoch 2, gen loss=0.6334753036499023,disc loss=1.205321192741394, 0:00:15.93\n",
      "Epoch 3, gen loss=0.6270192861557007,disc loss=1.2372075319290161, 0:00:15.96\n",
      "Epoch 4, gen loss=0.6267864108085632,disc loss=1.2273229360580444, 0:00:15.99\n",
      "Epoch 5, gen loss=0.6318582892417908,disc loss=1.2109514474868774, 0:00:15.98\n",
      "Epoch 6, gen loss=0.6369835734367371,disc loss=1.200624942779541, 0:00:16.00\n",
      "Epoch 7, gen loss=0.6376403570175171,disc loss=1.184471607208252, 0:00:15.97\n",
      "Epoch 8, gen loss=0.6391939520835876,disc loss=1.1759257316589355, 0:00:15.96\n",
      "Epoch 9, gen loss=0.6448891162872314,disc loss=1.1610084772109985, 0:00:15.93\n",
      "Epoch 10, gen loss=0.6482445597648621,disc loss=1.1442099809646606, 0:00:15.94\n",
      "Epoch 11, gen loss=0.6534502506256104,disc loss=1.1296764612197876, 0:00:16.00\n",
      "Epoch 12, gen loss=0.6596068739891052,disc loss=1.1100510358810425, 0:00:15.97\n",
      "Epoch 13, gen loss=0.6608631610870361,disc loss=1.1065982580184937, 0:00:15.93\n",
      "Epoch 14, gen loss=0.6620861291885376,disc loss=1.1013000011444092, 0:00:15.95\n",
      "Epoch 15, gen loss=0.6631458401679993,disc loss=1.100268840789795, 0:00:15.96\n",
      "Epoch 16, gen loss=0.6623218059539795,disc loss=1.0975425243377686, 0:00:15.95\n",
      "Epoch 17, gen loss=0.6656843423843384,disc loss=1.0882270336151123, 0:00:15.94\n",
      "Epoch 18, gen loss=0.6682007312774658,disc loss=1.0808894634246826, 0:00:15.94\n",
      "Epoch 19, gen loss=0.6690874695777893,disc loss=1.075639009475708, 0:00:15.96\n",
      "Epoch 20, gen loss=0.6703652143478394,disc loss=1.0719377994537354, 0:00:15.93\n",
      "Epoch 21, gen loss=0.668434739112854,disc loss=1.0761486291885376, 0:00:15.94\n",
      "Epoch 22, gen loss=0.6704645156860352,disc loss=1.0769615173339844, 0:00:15.95\n",
      "Epoch 23, gen loss=0.6700012683868408,disc loss=1.0743499994277954, 0:00:15.93\n",
      "Epoch 24, gen loss=0.6687819957733154,disc loss=1.0778828859329224, 0:00:15.94\n",
      "Epoch 25, gen loss=0.6686632633209229,disc loss=1.0774006843566895, 0:00:15.95\n",
      "Epoch 26, gen loss=0.6731421947479248,disc loss=1.0676006078720093, 0:00:15.95\n",
      "Epoch 27, gen loss=0.6691802144050598,disc loss=1.0741957426071167, 0:00:15.93\n",
      "Epoch 28, gen loss=0.6713420152664185,disc loss=1.0699779987335205, 0:00:15.97\n",
      "Epoch 29, gen loss=0.6711485385894775,disc loss=1.0704329013824463, 0:00:15.96\n",
      "Epoch 30, gen loss=0.6700910329818726,disc loss=1.0741702318191528, 0:00:15.92\n",
      "Epoch 31, gen loss=0.671661376953125,disc loss=1.0702369213104248, 0:00:15.95\n",
      "Epoch 32, gen loss=0.6695517301559448,disc loss=1.0736041069030762, 0:00:16.00\n",
      "Epoch 33, gen loss=0.6709832549095154,disc loss=1.0689400434494019, 0:00:15.95\n",
      "Epoch 34, gen loss=0.6749480366706848,disc loss=1.0604950189590454, 0:00:15.92\n",
      "Epoch 35, gen loss=0.6748515963554382,disc loss=1.0595176219940186, 0:00:15.93\n",
      "Epoch 36, gen loss=0.6733457446098328,disc loss=1.0638619661331177, 0:00:15.93\n",
      "Epoch 37, gen loss=0.6726199388504028,disc loss=1.0653517246246338, 0:00:15.94\n",
      "Epoch 38, gen loss=0.6697443127632141,disc loss=1.0708273649215698, 0:00:15.94\n",
      "Epoch 39, gen loss=0.6751115322113037,disc loss=1.0633903741836548, 0:00:15.95\n",
      "Epoch 40, gen loss=0.6745288968086243,disc loss=1.0629328489303589, 0:00:15.92\n",
      "Epoch 41, gen loss=0.6734098792076111,disc loss=1.0622211694717407, 0:00:15.93\n",
      "Epoch 42, gen loss=0.6750598549842834,disc loss=1.0573370456695557, 0:00:15.93\n",
      "Epoch 43, gen loss=0.6731807589530945,disc loss=1.0665472745895386, 0:00:15.96\n",
      "Epoch 44, gen loss=0.6734431385993958,disc loss=1.0618983507156372, 0:00:15.93\n",
      "Epoch 45, gen loss=0.6745864748954773,disc loss=1.0630234479904175, 0:00:15.95\n",
      "Epoch 46, gen loss=0.675045907497406,disc loss=1.0595722198486328, 0:00:15.93\n",
      "Epoch 47, gen loss=0.6746647953987122,disc loss=1.062109112739563, 0:00:15.93\n",
      "Epoch 48, gen loss=0.674683153629303,disc loss=1.0596719980239868, 0:00:15.95\n",
      "Epoch 49, gen loss=0.6726468205451965,disc loss=1.0648186206817627, 0:00:15.92\n",
      "Epoch 50, gen loss=0.6753429174423218,disc loss=1.058219313621521, 0:00:15.94\n",
      "Training time: 0:13:33.04\n"
     ]
    }
   ],
   "source": [
    "train(train_dataset, 50)"
   ]
  },
  {
   "cell_type": "code",
   "execution_count": 0,
   "metadata": {
    "colab": {},
    "colab_type": "code",
    "id": "eqUDdUvr6Asy"
   },
   "outputs": [],
   "source": [
    "generator.save(os.path.join(DATA_PATH,\"face_generator_model2.h5\"))"
   ]
  },
  {
   "cell_type": "markdown",
   "metadata": {},
   "source": [
    "## Model 2 Output\n",
    "![title](model2.png)"
   ]
  },
  {
   "cell_type": "markdown",
   "metadata": {},
   "source": [
    "The model 2 seems to provide a more better output than model1 after changing the epoches,activation function in the generator network and the optimer function"
   ]
  },
  {
   "cell_type": "markdown",
   "metadata": {},
   "source": [
    "The number of epoches, hidden layers can imporve the accuracy of the model"
   ]
  },
  {
   "cell_type": "markdown",
   "metadata": {},
   "source": [
    "**Conclusion:** Though the results generated are of very low resolution, this project implemented the understanding of GANS using custom dataset."
   ]
  },
  {
   "cell_type": "markdown",
   "metadata": {},
   "source": [
    "**Citations:**  \n",
    "* https://www.youtube.com/watch?v=ydGC0IvlCNs&t=3s\n",
    "* https://www.youtube.com/watch?time_continue=1878&v=rZufA635dq4&feature=emb_logo\n",
    "* https://www.youtube.com/watch?v=5WoItGTWV54\n",
    "* https://machinelearningmastery.com/how-to-evaluate-generative-adversarial-networks/"
   ]
  },
  {
   "cell_type": "markdown",
   "metadata": {},
   "source": [
    "**Copyright 2020 Ashutosh Raichurkar**\n",
    "\n",
    "Permission is hereby granted, free of charge, to any person obtaining a copy of this software and associated documentation files (the \"Software\"), to deal in the Software without restriction, including without limitation the rights to use, copy, modify, merge, publish, distribute, sublicense, and/or sell copies of the Software, and to permit persons to whom the Software is furnished to do so, subject to the following conditions:\n",
    "\n",
    "The above copyright notice and this permission notice shall be included in all copies or substantial portions of the Software.\n",
    "\n",
    "THE SOFTWARE IS PROVIDED \"AS IS\", WITHOUT WARRANTY OF ANY KIND, EXPRESS OR IMPLIED, INCLUDING BUT NOT LIMITED TO THE WARRANTIES OF MERCHANTABILITY, FITNESS FOR A PARTICULAR PURPOSE AND NONINFRINGEMENT. IN NO EVENT SHALL THE AUTHORS OR COPYRIGHT HOLDERS BE LIABLE FOR ANY CLAIM, DAMAGES OR OTHER LIABILITY, WHETHER IN AN ACTION OF CONTRACT, TORT OR OTHERWISE, ARISING FROM, OUT OF OR IN CONNECTION WITH THE SOFTWARE OR THE USE OR OTHER DEALINGS IN THE SOFTWARE."
   ]
  },
  {
   "cell_type": "code",
   "execution_count": null,
   "metadata": {},
   "outputs": [],
   "source": []
  }
 ],
 "metadata": {
  "accelerator": "GPU",
  "colab": {
   "collapsed_sections": [],
   "name": "Untitled4.ipynb",
   "provenance": []
  },
  "kernelspec": {
   "display_name": "Python 3",
   "language": "python",
   "name": "python3"
  },
  "language_info": {
   "codemirror_mode": {
    "name": "ipython",
    "version": 3
   },
   "file_extension": ".py",
   "mimetype": "text/x-python",
   "name": "python",
   "nbconvert_exporter": "python",
   "pygments_lexer": "ipython3",
   "version": "3.7.4"
  }
 },
 "nbformat": 4,
 "nbformat_minor": 1
}
